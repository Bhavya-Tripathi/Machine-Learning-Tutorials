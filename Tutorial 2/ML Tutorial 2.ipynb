{
 "cells": [
  {
   "cell_type": "code",
   "execution_count": 3,
   "metadata": {},
   "outputs": [
    {
     "name": "stdout",
     "output_type": "stream",
     "text": [
      "Intercept: 0.100000000000000\n",
      "Slope: 1.00000000000000\n"
     ]
    },
    {
     "data": {
      "text/plain": [
       "<matplotlib.legend.Legend at 0x18760ff1198>"
      ]
     },
     "execution_count": 3,
     "metadata": {},
     "output_type": "execute_result"
    },
    {
     "data": {
      "image/png": "[encoded data removed]",
      "text/plain": [
       "<Figure size 432x288 with 1 Axes>"
      ]
     },
     "metadata": {
      "needs_background": "light"
     },
     "output_type": "display_data"
    }
   ],
   "source": [
    "import numpy as np\n",
    "import sympy as sp\n",
    "import matplotlib.pyplot as plt\n",
    "\n",
    "beta = 1\n",
    "w0,w1 = sp.symbols('w0 w1')\n",
    "\n",
    "#     1 1\n",
    "# x = 1 2    y = 1.2 1.9 3.2   w = w0 w1 \n",
    "#     1 3\n",
    "# we need to find w0,w1 for maximum likelihood\n",
    "\n",
    "x = sp.Matrix([[1,1], [1,2], [1,3]])\n",
    "t = sp.Matrix([[1.2,1.9,3.2]])\n",
    "w = sp.Matrix([[w0,w1]])\n",
    "n = 3\n",
    "\n",
    "# y = x*w^T - t^T\n",
    "\n",
    "expr = x*sp.Transpose(w) - sp.Transpose(t)\n",
    "\n",
    "# log likelihood function:\n",
    "# ln P(t|x,w,beta) = -beta/2*sum(y(x,w)-t)^2 + (n/2)ln(beta) -(n/2)ln(2*pi)\n",
    "\n",
    "p = (-beta/2)*sum(np.square((expr))) + (n/2)*np.log(beta) - (n/2)*np.log(2*np.pi)\n",
    "\n",
    "# Maximizing the log likelihood function by differentiating it w.r.t w \n",
    "# and equating to 0 to solve for w0 and w1\n",
    "\n",
    "d1 = sp.diff(p[0],w0)\n",
    "d2 = sp.diff(p[0],w1)\n",
    "\n",
    "sol = sp.solve((d1, d2), (w0,w1))\n",
    "\n",
    "x_vals = [x[i,1] for i in range(3)]\n",
    "y_vals = list(t)\n",
    "\n",
    "line_eqn =[sol[w0] + sol[w1]*i for i in x_vals]\n",
    "\n",
    "print(\"Intercept:\",sol[w0])\n",
    "print(\"Slope:\",sol[w1])\n",
    "plt.xlabel(\"X\")\n",
    "plt.ylabel(\"Y\")\n",
    "plt.plot(x_vals,y_vals,'o', label = \"Data Points\")\n",
    "plt.plot(x_vals, line_eqn, label=\"Fitted Line\")\n",
    "plt.legend(loc='best')"
   ]
  },
  {
   "cell_type": "code",
   "execution_count": null,
   "metadata": {},
   "outputs": [],
   "source": []
  }
 ],
 "metadata": {
  "kernelspec": {
   "display_name": "Python 3",
   "language": "python",
   "name": "python3"
  },
  "language_info": {
   "codemirror_mode": {
    "name": "ipython",
    "version": 3
   },
   "file_extension": ".py",
   "mimetype": "text/x-python",
   "name": "python",
   "nbconvert_exporter": "python",
   "pygments_lexer": "ipython3",
   "version": "3.7.3"
  }
 },
 "nbformat": 4,
 "nbformat_minor": 2
}
